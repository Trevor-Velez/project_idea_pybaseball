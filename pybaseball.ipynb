{
 "cells": [
  {
   "cell_type": "code",
   "execution_count": 1,
   "id": "14be1aff",
   "metadata": {},
   "outputs": [],
   "source": [
    "# pip install pybaseball"
   ]
  },
  {
   "cell_type": "code",
   "execution_count": 2,
   "id": "f35a9f58",
   "metadata": {},
   "outputs": [],
   "source": [
    "from pybaseball import statcast \n",
    "import pandas as pd"
   ]
  },
  {
   "cell_type": "code",
   "execution_count": 3,
   "id": "033d029c",
   "metadata": {},
   "outputs": [
    {
     "name": "stdout",
     "output_type": "stream",
     "text": [
      "This is a large query, it may take a moment to complete\n"
     ]
    },
    {
     "name": "stderr",
     "output_type": "stream",
     "text": [
      "C:\\Users\\Trevor\\anaconda3\\lib\\site-packages\\pybaseball\\statcast.py:50: UserWarning: \n",
      "That's a nice request you got there. It'd be a shame if something were to happen to it.\n",
      "We strongly recommend that you enable caching before running this. It's as simple as `pybaseball.cache.enable()`.\n",
      "Since the Statcast requests can take a *really* long time to run, if something were to happen, like: a disconnect;\n",
      "gremlins; computer repair by associates of Rudy Giuliani; electromagnetic interference from metal trash cans; etc.;\n",
      "you could lose a lot of progress. Enabling caching will allow you to immediately recover all the successful\n",
      "subqueries if that happens.\n",
      "  warnings.warn(_OVERSIZE_WARNING)\n",
      "\r",
      "  0%|                                                                                                                     | 0/543 [00:00<?, ?it/s]"
     ]
    },
    {
     "name": "stdout",
     "output_type": "stream",
     "text": [
      "Skipping offseason dates\n",
      "Skipping offseason dates\n"
     ]
    },
    {
     "name": "stderr",
     "output_type": "stream",
     "text": [
      "100%|███████████████████████████████████████████████████████████████████████████████████████████████████████████| 543/543 [01:48<00:00,  5.00it/s]\n"
     ]
    }
   ],
   "source": [
    "# Get pitch data from the last 3 seasons\n",
    "\n",
    "df2 = statcast(start_dt='2019-04-01', end_dt='2021-11-2')"
   ]
  },
  {
   "cell_type": "code",
   "execution_count": 4,
   "id": "2c51347d",
   "metadata": {},
   "outputs": [
    {
     "data": {
      "text/plain": [
       "(1727893, 92)"
      ]
     },
     "execution_count": 4,
     "metadata": {},
     "output_type": "execute_result"
    }
   ],
   "source": [
    "# 720,637 pitches over 3 seasons\n",
    "\n",
    "df2.shape"
   ]
  },
  {
   "cell_type": "code",
   "execution_count": 5,
   "id": "327f8b41",
   "metadata": {},
   "outputs": [
    {
     "name": "stdout",
     "output_type": "stream",
     "text": [
      "pitch_type\n",
      "game_date\n",
      "release_speed\n",
      "release_pos_x\n",
      "release_pos_z\n",
      "player_name\n",
      "batter\n",
      "pitcher\n",
      "events\n",
      "description\n",
      "spin_dir\n",
      "spin_rate_deprecated\n",
      "break_angle_deprecated\n",
      "break_length_deprecated\n",
      "zone\n",
      "des\n",
      "game_type\n",
      "stand\n",
      "p_throws\n",
      "home_team\n",
      "away_team\n",
      "type\n",
      "hit_location\n",
      "bb_type\n",
      "balls\n",
      "strikes\n",
      "game_year\n",
      "pfx_x\n",
      "pfx_z\n",
      "plate_x\n",
      "plate_z\n",
      "on_3b\n",
      "on_2b\n",
      "on_1b\n",
      "outs_when_up\n",
      "inning\n",
      "inning_topbot\n",
      "hc_x\n",
      "hc_y\n",
      "tfs_deprecated\n",
      "tfs_zulu_deprecated\n",
      "fielder_2\n",
      "umpire\n",
      "sv_id\n",
      "vx0\n",
      "vy0\n",
      "vz0\n",
      "ax\n",
      "ay\n",
      "az\n",
      "sz_top\n",
      "sz_bot\n",
      "hit_distance_sc\n",
      "launch_speed\n",
      "launch_angle\n",
      "effective_speed\n",
      "release_spin_rate\n",
      "release_extension\n",
      "game_pk\n",
      "pitcher.1\n",
      "fielder_2.1\n",
      "fielder_3\n",
      "fielder_4\n",
      "fielder_5\n",
      "fielder_6\n",
      "fielder_7\n",
      "fielder_8\n",
      "fielder_9\n",
      "release_pos_y\n",
      "estimated_ba_using_speedangle\n",
      "estimated_woba_using_speedangle\n",
      "woba_value\n",
      "woba_denom\n",
      "babip_value\n",
      "iso_value\n",
      "launch_speed_angle\n",
      "at_bat_number\n",
      "pitch_number\n",
      "pitch_name\n",
      "home_score\n",
      "away_score\n",
      "bat_score\n",
      "fld_score\n",
      "post_away_score\n",
      "post_home_score\n",
      "post_bat_score\n",
      "post_fld_score\n",
      "if_fielding_alignment\n",
      "of_fielding_alignment\n",
      "spin_axis\n",
      "delta_home_win_exp\n",
      "delta_run_exp\n"
     ]
    }
   ],
   "source": [
    "# Get the columns\n",
    "\n",
    "for x in df2.columns:\n",
    "    print(x)"
   ]
  },
  {
   "cell_type": "code",
   "execution_count": 6,
   "id": "aa25c6a8",
   "metadata": {},
   "outputs": [
    {
     "name": "stdout",
     "output_type": "stream",
     "text": [
      "This is a large query, it may take a moment to complete\n"
     ]
    },
    {
     "name": "stderr",
     "output_type": "stream",
     "text": [
      "100%|███████████████████████████████████████████████████████████████████████████████████████████████████████████████| 8/8 [00:02<00:00,  3.51it/s]\n"
     ]
    }
   ],
   "source": [
    "# New Dataframe with just pitches thrown during the 2021 World Series\n",
    "\n",
    "df_world_series = statcast(start_dt='2021-10-26', end_dt='2021-11-2')"
   ]
  },
  {
   "cell_type": "code",
   "execution_count": 7,
   "id": "df5bf021",
   "metadata": {},
   "outputs": [],
   "source": [
    "pitchers = df_world_series.player_name.unique()"
   ]
  },
  {
   "cell_type": "code",
   "execution_count": 8,
   "id": "4afd2b76",
   "metadata": {},
   "outputs": [
    {
     "name": "stdout",
     "output_type": "stream",
     "text": [
      "Smith, Will\n",
      "García, Yimi\n",
      "Matzek, Tyler\n",
      "Pressly, Ryan\n",
      "Stanek, Ryne\n",
      "Fried, Max\n",
      "Maton, Phil\n",
      "Taylor, Blake\n",
      "Javier, Cristian\n",
      "Raley, Brooks\n",
      "Garcia, Luis\n",
      "Graveman, Kendall\n",
      "Smyly, Drew\n",
      "Martin, Chris\n",
      "Minter, A.J.\n",
      "Urquidy, José\n",
      "Chavez, Jesse\n",
      "Valdez, Framber\n",
      "Davidson, Tucker\n",
      "Jackson, Luke\n",
      "Wright, Kyle\n",
      "Greinke, Zack\n",
      "Lee, Dylan\n",
      "Anderson, Ian\n",
      "Odorizzi, Jake\n",
      "Morton, Charlie\n"
     ]
    }
   ],
   "source": [
    "# List out the pitchers\n",
    "\n",
    "for x in pitchers:\n",
    "    print(x)"
   ]
  },
  {
   "cell_type": "code",
   "execution_count": 9,
   "id": "8a96bd33",
   "metadata": {},
   "outputs": [],
   "source": [
    "#df2.to_csv(\"complete_3_year_data.csv\")"
   ]
  },
  {
   "cell_type": "code",
   "execution_count": 10,
   "id": "07263ba8",
   "metadata": {},
   "outputs": [],
   "source": [
    "# New Dataframe with 3 years of data from only the pitchers that threw in the 2021 World Series\n",
    "\n",
    "testing_df = df2.loc[df2[\"player_name\"].isin(pitchers),:]"
   ]
  },
  {
   "cell_type": "code",
   "execution_count": 11,
   "id": "d274e48a",
   "metadata": {},
   "outputs": [
    {
     "data": {
      "text/plain": [
       "(79402, 92)"
      ]
     },
     "execution_count": 11,
     "metadata": {},
     "output_type": "execute_result"
    }
   ],
   "source": [
    "# 79402 Pitches Thrown by those pitchers over 3 years\n",
    "\n",
    "testing_df.shape"
   ]
  },
  {
   "cell_type": "code",
   "execution_count": 12,
   "id": "09b697a0",
   "metadata": {},
   "outputs": [],
   "source": [
    "# Output to csv\n",
    "\n",
    "testing_df.to_csv(\"world_series_pitchers_3_years.csv\")"
   ]
  },
  {
   "cell_type": "code",
   "execution_count": null,
   "id": "68cb594d",
   "metadata": {},
   "outputs": [],
   "source": []
  }
 ],
 "metadata": {
  "kernelspec": {
   "display_name": "Python 3",
   "language": "python",
   "name": "python3"
  },
  "language_info": {
   "codemirror_mode": {
    "name": "ipython",
    "version": 3
   },
   "file_extension": ".py",
   "mimetype": "text/x-python",
   "name": "python",
   "nbconvert_exporter": "python",
   "pygments_lexer": "ipython3",
   "version": "3.8.8"
  }
 },
 "nbformat": 4,
 "nbformat_minor": 5
}
