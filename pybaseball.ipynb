{
 "cells": [
  {
   "cell_type": "code",
   "execution_count": 1,
   "id": "14be1aff",
   "metadata": {},
   "outputs": [],
   "source": [
    "# pip install pybaseball"
   ]
  },
  {
   "cell_type": "code",
   "execution_count": 20,
   "id": "f35a9f58",
   "metadata": {},
   "outputs": [],
   "source": [
    "from pybaseball import statcast \n",
    "import pandas as pd"
   ]
  },
  {
   "cell_type": "code",
   "execution_count": 21,
   "id": "033d029c",
   "metadata": {},
   "outputs": [
    {
     "name": "stdout",
     "output_type": "stream",
     "text": [
      "This is a large query, it may take a moment to complete\n"
     ]
    },
    {
     "name": "stderr",
     "output_type": "stream",
     "text": [
      "C:\\Users\\Trevor\\anaconda3\\lib\\site-packages\\pybaseball\\statcast.py:50: UserWarning: \n",
      "That's a nice request you got there. It'd be a shame if something were to happen to it.\n",
      "We strongly recommend that you enable caching before running this. It's as simple as `pybaseball.cache.enable()`.\n",
      "Since the Statcast requests can take a *really* long time to run, if something were to happen, like: a disconnect;\n",
      "gremlins; computer repair by associates of Rudy Giuliani; electromagnetic interference from metal trash cans; etc.;\n",
      "you could lose a lot of progress. Enabling caching will allow you to immediately recover all the successful\n",
      "subqueries if that happens.\n",
      "  warnings.warn(_OVERSIZE_WARNING)\n",
      "\r",
      "  0%|                                                                                                                     | 0/543 [00:00<?, ?it/s]"
     ]
    },
    {
     "name": "stdout",
     "output_type": "stream",
     "text": [
      "Skipping offseason dates\n",
      "Skipping offseason dates\n"
     ]
    },
    {
     "name": "stderr",
     "output_type": "stream",
     "text": [
      "100%|███████████████████████████████████████████████████████████████████████████████████████████████████████████| 543/543 [01:41<00:00,  5.37it/s]\n"
     ]
    }
   ],
   "source": [
    "# Get pitch data from the last 3 seasons\n",
    "\n",
    "df2 = statcast(start_dt='2019-04-01', end_dt='2021-11-2')"
   ]
  },
  {
   "cell_type": "code",
   "execution_count": 22,
   "id": "2c51347d",
   "metadata": {},
   "outputs": [
    {
     "data": {
      "text/plain": [
       "(1727893, 92)"
      ]
     },
     "execution_count": 22,
     "metadata": {},
     "output_type": "execute_result"
    }
   ],
   "source": [
    "# 720,637 pitches over 3 seasons\n",
    "\n",
    "df2.shape"
   ]
  },
  {
   "cell_type": "code",
   "execution_count": 23,
   "id": "327f8b41",
   "metadata": {},
   "outputs": [
    {
     "name": "stdout",
     "output_type": "stream",
     "text": [
      "pitch_type\n",
      "game_date\n",
      "release_speed\n",
      "release_pos_x\n",
      "release_pos_z\n",
      "player_name\n",
      "batter\n",
      "pitcher\n",
      "events\n",
      "description\n",
      "spin_dir\n",
      "spin_rate_deprecated\n",
      "break_angle_deprecated\n",
      "break_length_deprecated\n",
      "zone\n",
      "des\n",
      "game_type\n",
      "stand\n",
      "p_throws\n",
      "home_team\n",
      "away_team\n",
      "type\n",
      "hit_location\n",
      "bb_type\n",
      "balls\n",
      "strikes\n",
      "game_year\n",
      "pfx_x\n",
      "pfx_z\n",
      "plate_x\n",
      "plate_z\n",
      "on_3b\n",
      "on_2b\n",
      "on_1b\n",
      "outs_when_up\n",
      "inning\n",
      "inning_topbot\n",
      "hc_x\n",
      "hc_y\n",
      "tfs_deprecated\n",
      "tfs_zulu_deprecated\n",
      "fielder_2\n",
      "umpire\n",
      "sv_id\n",
      "vx0\n",
      "vy0\n",
      "vz0\n",
      "ax\n",
      "ay\n",
      "az\n",
      "sz_top\n",
      "sz_bot\n",
      "hit_distance_sc\n",
      "launch_speed\n",
      "launch_angle\n",
      "effective_speed\n",
      "release_spin_rate\n",
      "release_extension\n",
      "game_pk\n",
      "pitcher.1\n",
      "fielder_2.1\n",
      "fielder_3\n",
      "fielder_4\n",
      "fielder_5\n",
      "fielder_6\n",
      "fielder_7\n",
      "fielder_8\n",
      "fielder_9\n",
      "release_pos_y\n",
      "estimated_ba_using_speedangle\n",
      "estimated_woba_using_speedangle\n",
      "woba_value\n",
      "woba_denom\n",
      "babip_value\n",
      "iso_value\n",
      "launch_speed_angle\n",
      "at_bat_number\n",
      "pitch_number\n",
      "pitch_name\n",
      "home_score\n",
      "away_score\n",
      "bat_score\n",
      "fld_score\n",
      "post_away_score\n",
      "post_home_score\n",
      "post_bat_score\n",
      "post_fld_score\n",
      "if_fielding_alignment\n",
      "of_fielding_alignment\n",
      "spin_axis\n",
      "delta_home_win_exp\n",
      "delta_run_exp\n"
     ]
    }
   ],
   "source": [
    "# Get the columns\n",
    "\n",
    "for x in df2.columns:\n",
    "    print(x)"
   ]
  },
  {
   "cell_type": "code",
   "execution_count": 24,
   "id": "aa25c6a8",
   "metadata": {},
   "outputs": [
    {
     "name": "stdout",
     "output_type": "stream",
     "text": [
      "This is a large query, it may take a moment to complete\n"
     ]
    },
    {
     "name": "stderr",
     "output_type": "stream",
     "text": [
      "100%|███████████████████████████████████████████████████████████████████████████████████████████████████████████████| 8/8 [00:03<00:00,  2.61it/s]\n"
     ]
    }
   ],
   "source": [
    "# New Dataframe with just pitches thrown during the 2021 World Series\n",
    "\n",
    "df_world_series = statcast(start_dt='2021-10-26', end_dt='2021-11-2')"
   ]
  },
  {
   "cell_type": "code",
   "execution_count": 28,
   "id": "df5bf021",
   "metadata": {},
   "outputs": [],
   "source": [
    "pitchers = df_world_series.player_name.unique()\n",
    "batters = df_world_series.batter.unique()"
   ]
  },
  {
   "cell_type": "code",
   "execution_count": 29,
   "id": "4afd2b76",
   "metadata": {
    "scrolled": true
   },
   "outputs": [
    {
     "name": "stdout",
     "output_type": "stream",
     "text": [
      "Smith, Will\n",
      "García, Yimi\n",
      "Matzek, Tyler\n",
      "Pressly, Ryan\n",
      "Stanek, Ryne\n",
      "Fried, Max\n",
      "Maton, Phil\n",
      "Taylor, Blake\n",
      "Javier, Cristian\n",
      "Raley, Brooks\n",
      "Garcia, Luis\n",
      "Graveman, Kendall\n",
      "Smyly, Drew\n",
      "Martin, Chris\n",
      "Minter, A.J.\n",
      "Urquidy, José\n",
      "Chavez, Jesse\n",
      "Valdez, Framber\n",
      "Davidson, Tucker\n",
      "Jackson, Luke\n",
      "Wright, Kyle\n",
      "Greinke, Zack\n",
      "Lee, Dylan\n",
      "Anderson, Ian\n",
      "Odorizzi, Jake\n",
      "Morton, Charlie\n"
     ]
    }
   ],
   "source": [
    "# List out the pitchers\n",
    "\n",
    "for x in pitchers:\n",
    "    print(x)"
   ]
  },
  {
   "cell_type": "code",
   "execution_count": 30,
   "id": "bb00c678",
   "metadata": {},
   "outputs": [
    {
     "name": "stdout",
     "output_type": "stream",
     "text": [
      "493329\n",
      "670541\n",
      "621043\n",
      "488726\n",
      "592696\n",
      "621020\n",
      "518595\n",
      "514888\n",
      "503556\n",
      "649557\n",
      "645277\n",
      "592626\n",
      "594807\n",
      "608324\n",
      "663656\n",
      "663586\n",
      "518692\n",
      "624585\n",
      "455117\n",
      "642350\n",
      "501303\n",
      "608665\n",
      "676801\n",
      "621345\n",
      "425844\n",
      "656353\n",
      "664285\n",
      "606115\n",
      "657140\n",
      "488771\n",
      "666120\n",
      "677651\n"
     ]
    }
   ],
   "source": [
    "for x in batters:\n",
    "    print(x)"
   ]
  },
  {
   "cell_type": "code",
   "execution_count": 9,
   "id": "8a96bd33",
   "metadata": {},
   "outputs": [],
   "source": [
    "#df2.to_csv(\"complete_3_year_data.csv\")"
   ]
  },
  {
   "cell_type": "code",
   "execution_count": 31,
   "id": "07263ba8",
   "metadata": {},
   "outputs": [],
   "source": [
    "# New Dataframe with 3 years of data from only the pitchers that threw in the 2021 World Series\n",
    "\n",
    "testing_df = df2.loc[df2[\"player_name\"].isin(pitchers),:]"
   ]
  },
  {
   "cell_type": "code",
   "execution_count": 32,
   "id": "d274e48a",
   "metadata": {},
   "outputs": [
    {
     "data": {
      "text/plain": [
       "(79402, 92)"
      ]
     },
     "execution_count": 32,
     "metadata": {},
     "output_type": "execute_result"
    }
   ],
   "source": [
    "# 79402 Pitches Thrown by those pitchers over 3 years\n",
    "\n",
    "testing_df.shape"
   ]
  },
  {
   "cell_type": "code",
   "execution_count": 12,
   "id": "09b697a0",
   "metadata": {},
   "outputs": [],
   "source": [
    "# Output to csv\n",
    "\n",
    "#testing_df.to_csv(\"world_series_pitchers_3_years.csv\")"
   ]
  },
  {
   "cell_type": "markdown",
   "id": "f2701473",
   "metadata": {},
   "source": [
    "# Batters"
   ]
  },
  {
   "cell_type": "code",
   "execution_count": 33,
   "id": "4f1d7109",
   "metadata": {},
   "outputs": [],
   "source": [
    "from pybaseball import batting_stats_range, statcast_batter, playerid_lookup"
   ]
  },
  {
   "cell_type": "code",
   "execution_count": 37,
   "id": "cee5bf89",
   "metadata": {},
   "outputs": [
    {
     "name": "stdout",
     "output_type": "stream",
     "text": [
      "<IntegerArray>\n",
      "[493329, 670541, 621043, 488726, 592696, 621020, 518595, 514888, 503556,\n",
      " 649557, 645277, 592626, 594807, 608324, 663656, 663586, 518692, 624585,\n",
      " 455117, 642350, 501303, 608665, 676801, 621345, 425844, 656353, 664285,\n",
      " 606115, 657140, 488771, 666120, 677651]\n",
      "Length: 32, dtype: Int64\n"
     ]
    }
   ],
   "source": [
    "print(batters)"
   ]
  },
  {
   "cell_type": "code",
   "execution_count": 41,
   "id": "4d47fe35",
   "metadata": {},
   "outputs": [],
   "source": [
    "str_batters = [str(x) for x in batters]"
   ]
  },
  {
   "cell_type": "code",
   "execution_count": 42,
   "id": "63ff26fc",
   "metadata": {},
   "outputs": [
    {
     "name": "stdout",
     "output_type": "stream",
     "text": [
      "['493329', '670541', '621043', '488726', '592696', '621020', '518595', '514888', '503556', '649557', '645277', '592626', '594807', '608324', '663656', '663586', '518692', '624585', '455117', '642350', '501303', '608665', '676801', '621345', '425844', '656353', '664285', '606115', '657140', '488771', '666120', '677651']\n"
     ]
    }
   ],
   "source": [
    "print(str_batters)"
   ]
  },
  {
   "cell_type": "code",
   "execution_count": 34,
   "id": "fd717927",
   "metadata": {},
   "outputs": [],
   "source": [
    "batters_df = pd.DataFrame()"
   ]
  },
  {
   "cell_type": "code",
   "execution_count": 47,
   "id": "6638f61d",
   "metadata": {},
   "outputs": [
    {
     "name": "stdout",
     "output_type": "stream",
     "text": [
      "Gathering Player Data\n",
      "Gathering Player Data\n",
      "Gathering Player Data\n",
      "Gathering Player Data\n",
      "Gathering Player Data\n",
      "Gathering Player Data\n",
      "Gathering Player Data\n",
      "Gathering Player Data\n",
      "Gathering Player Data\n",
      "Gathering Player Data\n",
      "Gathering Player Data\n",
      "Gathering Player Data\n",
      "Gathering Player Data\n",
      "Gathering Player Data\n",
      "Gathering Player Data\n",
      "Gathering Player Data\n",
      "Gathering Player Data\n",
      "Gathering Player Data\n",
      "Gathering Player Data\n",
      "Gathering Player Data\n",
      "Gathering Player Data\n",
      "Gathering Player Data\n",
      "Gathering Player Data\n",
      "Gathering Player Data\n",
      "Gathering Player Data\n",
      "Gathering Player Data\n",
      "Gathering Player Data\n",
      "Gathering Player Data\n",
      "Gathering Player Data\n",
      "Gathering Player Data\n",
      "Gathering Player Data\n",
      "Gathering Player Data\n"
     ]
    }
   ],
   "source": [
    "for x in str_batters:\n",
    "    data = statcast_batter('2019-04-01', '2021-11-2', x)\n",
    "    batters_df = batters_df.append(data)"
   ]
  },
  {
   "cell_type": "code",
   "execution_count": 48,
   "id": "53e944e2",
   "metadata": {},
   "outputs": [
    {
     "data": {
      "text/plain": [
       "(105045, 92)"
      ]
     },
     "execution_count": 48,
     "metadata": {},
     "output_type": "execute_result"
    }
   ],
   "source": [
    "batters_df.shape"
   ]
  },
  {
   "cell_type": "code",
   "execution_count": 49,
   "id": "23d900b3",
   "metadata": {},
   "outputs": [],
   "source": [
    "# batters_df.to_csv(\"complete_batters_3_Year_data.csv\")"
   ]
  },
  {
   "cell_type": "code",
   "execution_count": null,
   "id": "90563547",
   "metadata": {},
   "outputs": [],
   "source": []
  }
 ],
 "metadata": {
  "kernelspec": {
   "display_name": "Python 3",
   "language": "python",
   "name": "python3"
  },
  "language_info": {
   "codemirror_mode": {
    "name": "ipython",
    "version": 3
   },
   "file_extension": ".py",
   "mimetype": "text/x-python",
   "name": "python",
   "nbconvert_exporter": "python",
   "pygments_lexer": "ipython3",
   "version": "3.8.8"
  }
 },
 "nbformat": 4,
 "nbformat_minor": 5
}
